{
 "cells": [
  {
   "cell_type": "code",
   "execution_count": null,
   "metadata": {
    "id": "EuNnDGwdifr6"
   },
   "outputs": [],
   "source": [
    "from sqlalchemy import create_engine\n",
    "import pandas as pd\n",
    "# Open database connection\n",
    "engine = create_engine(\"mysql+pymysql://tcrd@tcrd.kmc.io:3306/tcrd540\") # 2018 version"
   ]
  },
  {
   "cell_type": "code",
   "execution_count": null,
   "metadata": {},
   "outputs": [],
   "source": [
    "dfprotein = pd.read_sql_query(\"\"\"\n",
    "  select \n",
    "  protein.id,\n",
    "  protein.uniprot,\n",
    "  protein.name,\n",
    "  protein.sym,\n",
    "  target.tdl\n",
    "from\n",
    "  protein\n",
    "  join t2tc on protein.id=t2tc.protein_id\n",
    "  join target on t2tc.target_id=target.id\n",
    "order by\n",
    "  protein.id\n",
    " \"\"\", engine)"
   ]
  },
  {
   "cell_type": "code",
   "execution_count": null,
   "metadata": {},
   "outputs": [],
   "source": [
    "engine = create_engine(\"mysql+pymysql://tcrd@tcrd.kmc.io:3306/tcrd6134pharos2\") # latest version\n",
    "dfppi = pd.read_sql_query(\"\"\"\n",
    "select\n",
    "  ncats_ppi.protein_id,\n",
    "  ncats_ppi.ppitypes,\n",
    "  ncats_ppi.score,\n",
    "  ncats_ppi.other_id\n",
    "from\n",
    "ncats_ppi\n",
    "  join t2tc on ncats_ppi.protein_id=t2tc.protein_id\n",
    "WHERE ppitypes = 'STRINGDB'\n",
    "order by\n",
    "  protein_id\n",
    "\n",
    "\"\"\", engine)\n",
    "dfprotein2020 = pd.read_sql_query(\"\"\"\n",
    "  select \n",
    "  protein.id,\n",
    "  protein.uniprot,\n",
    "  protein.name,\n",
    "  protein.sym,\n",
    "  target.tdl\n",
    "from\n",
    "  protein\n",
    "  join t2tc on protein.id=t2tc.protein_id\n",
    "  join target on t2tc.target_id=target.id\n",
    "order by\n",
    "  protein.id\n",
    " \"\"\", engine)\n",
    "dfprotein2020"
   ]
  },
  {
   "cell_type": "code",
   "execution_count": null,
   "metadata": {},
   "outputs": [],
   "source": [
    "test = pd.read_feather('v13data.feather') # data for _ALL models\n",
    "# Get the column names excluding the first five columns\n",
    "columns_to_process = test.columns[5:]\n",
    "# Replace NaN values with 0 in columns except the first five\n",
    "test[columns_to_process] = test[columns_to_process].fillna(0)\n",
    "svmdf = pd.read_csv(\"1svm_nontclins.csv\")\n",
    "nontclins = test.loc[test[\"uniprot\"].isin(svmdf[\"Intersection\"])]"
   ]
  },
  {
   "cell_type": "code",
   "execution_count": null,
   "metadata": {},
   "outputs": [],
   "source": [
    "df = nontclins\n",
    "# Group columns based on their prefixes\n",
    "ach_cols = [col for col in nontclins.columns if col.startswith('ACH')]\n",
    "lincs_cols = [col for col in nontclins.columns if col.startswith('LINCS')]\n",
    "gtex_cols = [col for col in nontclins.columns if col.startswith('GTEX')]\n",
    "mim_cols = [col for col in nontclins.columns if col.startswith('MIM')]\n",
    "\n",
    "# Count the number of columns in each category\n",
    "ach_col_count = len(ach_cols)\n",
    "lincs_col_count = len(lincs_cols)\n",
    "gtex_col_count = len(gtex_cols)\n",
    "mim_col_count = len(mim_cols)\n",
    "\n",
    "print(\"Total no. of proteins predicted to be non-Tclins by all the 1SVM models = 1479\")\n",
    "print(\"\\nTotal no. of proteins predicted to be non-Tclins by all the 1SVM models and tracked back to 2018 Pharos= 1290\")\n",
    "\n",
    "print(\"\\nNumber of features in each feature category for the 1290:\")\n",
    "print(f\"ACH: {ach_col_count}\")\n",
    "print(f\"LINCS: {lincs_col_count}\")\n",
    "print(f\"GTEX: {gtex_col_count}\")\n",
    "print(f\"MIM: {mim_col_count}\")\n",
    "\n",
    "# Calculate sum for each category of columns\n",
    "ach_sum = nontclins[ach_cols].sum()\n",
    "lincs_sum = nontclins[lincs_cols].sum()\n",
    "gtex_sum = nontclins[gtex_cols].sum()\n",
    "mim_sum = nontclins[mim_cols].sum()\n",
    "\n",
    "# Count number of columns with sum equal to zero in each category\n",
    "ach_zero_sum_count = (ach_sum == 0).sum()\n",
    "lincs_zero_sum_count = (lincs_sum == 0).sum()\n",
    "gtex_zero_sum_count = (gtex_sum == 0).sum()\n",
    "mim_zero_sum_count = (mim_sum == 0).sum()\n",
    "\n",
    "print(\"\\nNumber of features with sum equal to zero in each feature category for the 1290:\")\n",
    "print(f\"CCLE: {ach_zero_sum_count}\")\n",
    "print(f\"LINCS: {lincs_zero_sum_count}\")\n",
    "print(f\"GTEX: {gtex_zero_sum_count}\")\n",
    "print(f\"DISEASES: {mim_zero_sum_count}\")"
   ]
  },
  {
   "cell_type": "code",
   "execution_count": null,
   "metadata": {},
   "outputs": [],
   "source": [
    "nontclins[[\"sym\",\"uniprot\", \"tdl\", \"protein_id\"]].to_csv(\"nontclin1290.csv\", index=False)"
   ]
  }
 ],
 "metadata": {
  "colab": {
   "authorship_tag": "ABX9TyPvCDhdwnMye3251VfBoMQ3",
   "include_colab_link": true,
   "provenance": []
  },
  "kernelspec": {
   "display_name": "Python [conda env:.conda-jhub_2]",
   "language": "python",
   "name": "conda-env-.conda-jhub_2-py"
  },
  "language_info": {
   "codemirror_mode": {
    "name": "ipython",
    "version": 3
   },
   "file_extension": ".py",
   "mimetype": "text/x-python",
   "name": "python",
   "nbconvert_exporter": "python",
   "pygments_lexer": "ipython3",
   "version": "3.9.4"
  }
 },
 "nbformat": 4,
 "nbformat_minor": 1
}
