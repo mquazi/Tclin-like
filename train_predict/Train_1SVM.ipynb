{
 "cells": [
  {
   "cell_type": "code",
   "execution_count": null,
   "id": "controlled-compiler",
   "metadata": {},
   "outputs": [],
   "source": [
    "import numpy as np\n",
    "import pandas as pd\n",
    "import warnings\n",
    "import time\n",
    "import pickle\n",
    "from sklearn.svm import OneClassSVM\n",
    "from sklearn import metrics \n",
    "from sklearn.model_selection import RandomizedSearchCV\n",
    "from sklearn.metrics import f1_score\n",
    "from sklearn.model_selection import KFold\n",
    "from sklearn import preprocessing\n",
    "from sklearn.metrics import accuracy_score\n",
    "from pathlib import Path\n",
    "import multiprocessing\n",
    "print(multiprocessing.cpu_count())\n",
    "print(Path.cwd())"
   ]
  },
  {
   "cell_type": "code",
   "execution_count": null,
   "id": "corresponding-bones",
   "metadata": {},
   "outputs": [],
   "source": [
    "data = pd.read_csv(\"v5data.csv\") # read in the appropriate dataset\n",
    "data.dropna(subset=['uniprot'], inplace=True)\n",
    "contcols = (data.drop([\"uniprot\", \"protein_id\",  \"name\", \"sym\", \"tdl\" ], axis=1)).fillna(0)\n",
    "df1 = data[[\"uniprot\", \"protein_id\",  \"name\", \"sym\", \"tdl\"]]\n",
    "df1 = pd.concat([df1.reset_index(drop=True), contcols], axis=1)\n",
    "\n",
    "# changing the 5 proteins to tclins  \n",
    "renameids = [\"P02787\", \"O60840\", \"P13639\", \"Q16637\", \"Q9UM01\"] # these 5 proteins are marked nontclins on latest Pharos\n",
    "df1.loc[df1[\"uniprot\"].isin(renameids), 'tdl'] = 'Tclin'\n",
    "conditions = [\n",
    "    (df1['tdl'] == \"Tclin\"),\n",
    "    (df1['tdl'] != \"Tclin\")\n",
    "    ]\n",
    "values = [1, 0]\n",
    "df1['y'] = np.select(conditions, values)"
   ]
  },
  {
   "cell_type": "code",
   "execution_count": null,
   "id": "cordless-recipe",
   "metadata": {
    "scrolled": true
   },
   "outputs": [],
   "source": [
    "tclin = pd.read_csv(\"Tclin_list.csv\") # Tclins to train on\n",
    "tclin = tclin[['UniProt', 'Symbol', 'NewTClin','Quinquennal']]\n",
    "tclin.rename(columns = {'UniProt':'uniprot', 'Symbol': 'sym'}, inplace=True)\n",
    "tclinuniprotid = tclin[\"uniprot\"]\n",
    "tlist = tclin # First 709 are tclins \n",
    "tlist.drop([\"sym\",  \"Quinquennal\"], axis=1, inplace=True)\n",
    "\n",
    "ids = tlist[\"uniprot\"]\n",
    "df = df1.loc[df1['uniprot'].isin(ids)]\n",
    "df = pd.merge(df, tlist, on ='uniprot')\n",
    "df = df.sort_values(\"uniprot\", ascending=False)\n",
    "\n",
    "df1 = df.loc[~df['uniprot'].isin(renameids)]\n",
    "df2 = df.loc[df['uniprot'].isin(renameids)]\n",
    "df2[\"NewTClin\"] = \"Y\"\n",
    "\n",
    "df = pd.concat([df1, df2]) \n",
    "warnings.filterwarnings(action='ignore', category=UserWarning)\n",
    "test = df.loc[df['NewTClin'] == \"Y\"] \n",
    "train = df.loc[df['NewTClin'] != \"Y\"] \n",
    "train = train.loc[train[\"y\"] == 1] # the 611 rows (proteins) for training\n",
    "\n",
    "test[\"tdl\"] = 'Tclin'\n",
    "conditions = [\n",
    "    (test['tdl'] == \"Tclin\"),\n",
    "    (test['tdl'] != \"Tclin\")\n",
    "    ]\n",
    "values = [1, 0]\n",
    "test['y'] = np.select(conditions, values)\n",
    "train = train.loc[train[\"y\"] == 1]"
   ]
  },
  {
   "cell_type": "code",
   "execution_count": null,
   "id": "medium-haiti",
   "metadata": {},
   "outputs": [],
   "source": [
    "X_train = train.drop([\"uniprot\", \"protein_id\",  \"name\",\"sym\", \"tdl\", \"y\", \"NewTClin\" ], axis=1)\n",
    "y_train = train[\"y\"]\n",
    "X_test = test.drop([\"uniprot\", \"protein_id\", \"name\" ,\"sym\", \"tdl\", \"y\", \"NewTClin\" ], axis=1)\n",
    "y_test = test[\"y\"]\n",
    "print(\"Total Features columns = \", len(X_train.columns.values.tolist()))\n",
    "print(\"Training rows = \", len(X_train))\n",
    "print(\"Testing rows = \", len(X_test))"
   ]
  },
  {
   "cell_type": "code",
   "execution_count": null,
   "id": "identified-photography",
   "metadata": {
    "scrolled": true
   },
   "outputs": [],
   "source": [
    "# 1svm model training\n",
    "I = 1000\n",
    "warnings.filterwarnings(action='ignore', category=UserWarning)\n",
    "param_grid = [\n",
    "  {'kernel': ['linear'],\n",
    "  'gamma': [  0.0001, 0.0005,0.001, 0.01, 0.05,0.005, 0.1, 0.15, 0.2, 0.5, 0.6, 0.7, 0.8, 0.9,1, 5, 10],\n",
    "  'nu': [0.0001, 0.0005, 0.001, 0.01,0.05, 0.1,0.2,0.5, 0.6, 0.7, 0.8, 0.9, 1 ]},   \n",
    " ]\n",
    "scoring = {'Accuracy': 'accuracy', 'f1': 'f1'\n",
    "           }\n",
    "svm1 = OneClassSVM()\n",
    "kfold = KFold(n_splits=5, shuffle=True, random_state=1998)\n",
    "clf = RandomizedSearchCV(estimator=svm1,\n",
    "                   cv=kfold,\n",
    "                   param_distributions=param_grid, scoring=scoring,\n",
    "                   n_iter=I,\n",
    "                   verbose=2,\n",
    "                   n_jobs=1,refit='Accuracy',return_train_score=False, random_state = 1998)\n",
    "# Fit with all data\n",
    "start = time.time()\n",
    "clf.fit(X_train)\n",
    "end = time.time()\n",
    "print(\"Running time\", end - start)"
   ]
  },
  {
   "cell_type": "code",
   "execution_count": null,
   "id": "metallic-medicine",
   "metadata": {
    "scrolled": false
   },
   "outputs": [],
   "source": [
    "bestparams = clf.best_params_\n",
    "testpredictions = clf.predict(X_test)\n",
    "scores = clf.score_samples(X_test)\n",
    "ypred = testpredictions\n",
    "print(\"Best params are : \", bestparams)\n",
    "print(\"Predictions are : \", ypred)\n",
    "n_error_test = testpredictions[testpredictions == -1].size\n",
    "print(\"Test error = \", n_error_test/len(X_test))\n",
    "print(\"Wrong predictions = \", n_error_test, \"/74\")\n",
    "print(\"Correct predictions = \", testpredictions[testpredictions == 1].size, \"/74\")"
   ]
  },
  {
   "cell_type": "code",
   "execution_count": null,
   "id": "promising-china",
   "metadata": {},
   "outputs": [],
   "source": [
    "print(\"Accuracy = \", accuracy_score(y_test,ypred, normalize=True))\n",
    "print(\"F1 score = \", f1_score(y_test,ypred))"
   ]
  },
  {
   "cell_type": "markdown",
   "id": "beneficial-component",
   "metadata": {},
   "source": [
    "## Get predictions and the probabilities for the test set"
   ]
  },
  {
   "cell_type": "code",
   "execution_count": null,
   "id": "familiar-technology",
   "metadata": {
    "scrolled": true
   },
   "outputs": [],
   "source": [
    "dfpred = test[[\"uniprot\", \"sym\", \"tdl\", \"NewTClin\"]].reset_index(level=0)\n",
    "dfpred['predictions']=pd.Series(ypred)\n",
    "\n",
    "scores = pd.DataFrame(scores)\n",
    "scores.rename(columns = {0:'scores'\n",
    "                          }, inplace=True)\n",
    "\n",
    "probs_svc = clf.decision_function(X_test)\n",
    "probs_svm = pd.Series(probs_svc - probs_svc.min()) / (probs_svc.max() - probs_svc.min())\n",
    "#probs_svm\n",
    "dfpred = pd.concat([dfpred, scores, probs_svm], axis=1).sort_values(\"uniprot\")\n",
    "\n",
    "dfpred.rename(columns = {'predictions':'predictions(1=tclin)', 0: \"Derivedprobability\"\n",
    "                          }, inplace=True)\n",
    "dfpred['predictions(1=tclin)'] = dfpred['predictions(1=tclin)'].replace([-1], 0)\n",
    "dfpred.to_csv(\"svm_74preds.csv\", index=False)\n",
    "dfpred"
   ]
  },
  {
   "cell_type": "code",
   "execution_count": null,
   "id": "divine-driver",
   "metadata": {},
   "outputs": [],
   "source": [
    "# Best XGB model that was found based on the metric score \n",
    "best_model = clf.best_estimator_\n",
    "# Save model\n",
    "pickle.dump(clf.best_estimator_, open(\"1svm_best_model.pickle\", \"wb\"))"
   ]
  }
 ],
 "metadata": {
  "kernelspec": {
   "display_name": "Python [conda env:.conda-jhub_2]",
   "language": "python",
   "name": "conda-env-.conda-jhub_2-py"
  },
  "language_info": {
   "codemirror_mode": {
    "name": "ipython",
    "version": 3
   },
   "file_extension": ".py",
   "mimetype": "text/x-python",
   "name": "python",
   "nbconvert_exporter": "python",
   "pygments_lexer": "ipython3",
   "version": "3.9.4"
  }
 },
 "nbformat": 4,
 "nbformat_minor": 5
}
